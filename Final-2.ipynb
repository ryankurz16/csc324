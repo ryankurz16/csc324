{
 "cells": [
  {
   "cell_type": "markdown",
   "id": "94d8793c-ef41-403e-8318-3ba494f8a8b4",
   "metadata": {},
   "source": [
    " "
   ]
  },
  {
   "cell_type": "markdown",
   "id": "c716bc74-0abc-4217-853c-20e31237ee7a",
   "metadata": {},
   "source": [
    "# MENTAL HEALTH IN THE TECH WORKPLACE\n",
    "### By Ryan Kurz"
   ]
  },
  {
   "cell_type": "markdown",
   "id": "cdeeb227-7281-4e31-80d9-e95758ce3165",
   "metadata": {},
   "source": [
    "For the given dataset, it orginally explored the frequency of mental health issues/problems and the attitude towards mental health by the various geographic locations around the world. I will have a similar approach to looking at the data by exploring the different predicators of mental health issues and what might further their illness. Mental Health is an important topic and mental health issues that can happen to anyone whether they know it or not. You can always talk to someone about it and you are never alone. You will never get turned away for your troubles and when you think no one is there for you, just open your eyes to the many kind people in the world that care for you. "
   ]
  },
  {
   "cell_type": "code",
   "execution_count": 11,
   "id": "27c738ee-6119-4f51-92ba-355d8a23f353",
   "metadata": {},
   "outputs": [],
   "source": [
    "import seaborn as sns\n",
    "import matplotlib.pyplot as plt\n",
    "import os\n",
    "import pandas as pd\n",
    "import numpy as np\n",
    "import sys\n",
    "from sklearn.preprocessing import LabelEncoder \n",
    "from sklearn.cluster import KMeans\n"
   ]
  },
  {
   "cell_type": "markdown",
   "id": "38f00d4a-e8c6-4a24-9bec-6b8cfcb59e9d",
   "metadata": {},
   "source": [
    "### Reading the dataset in CSV form"
   ]
  },
  {
   "cell_type": "code",
   "execution_count": 12,
   "id": "020f0929-79ab-4128-9023-9ed26492d908",
   "metadata": {},
   "outputs": [
    {
     "data": {
      "text/html": [
       "<div>\n",
       "<style scoped>\n",
       "    .dataframe tbody tr th:only-of-type {\n",
       "        vertical-align: middle;\n",
       "    }\n",
       "\n",
       "    .dataframe tbody tr th {\n",
       "        vertical-align: top;\n",
       "    }\n",
       "\n",
       "    .dataframe thead th {\n",
       "        text-align: right;\n",
       "    }\n",
       "</style>\n",
       "<table border=\"1\" class=\"dataframe\">\n",
       "  <thead>\n",
       "    <tr style=\"text-align: right;\">\n",
       "      <th></th>\n",
       "      <th>Timestamp</th>\n",
       "      <th>Age</th>\n",
       "      <th>Gender</th>\n",
       "      <th>Country</th>\n",
       "      <th>state</th>\n",
       "      <th>self_employed</th>\n",
       "      <th>family_history</th>\n",
       "      <th>treatment</th>\n",
       "      <th>work_interfere</th>\n",
       "      <th>no_employees</th>\n",
       "      <th>...</th>\n",
       "      <th>anonymity</th>\n",
       "      <th>leave</th>\n",
       "      <th>mental_health_consequence</th>\n",
       "      <th>phys_health_consequence</th>\n",
       "      <th>coworkers</th>\n",
       "      <th>supervisor</th>\n",
       "      <th>mental_health_interview</th>\n",
       "      <th>phys_health_interview</th>\n",
       "      <th>mental_vs_physical</th>\n",
       "      <th>obs_consequence</th>\n",
       "    </tr>\n",
       "  </thead>\n",
       "  <tbody>\n",
       "    <tr>\n",
       "      <th>0</th>\n",
       "      <td>2014-08-27 11:34:53</td>\n",
       "      <td>46</td>\n",
       "      <td>Male</td>\n",
       "      <td>United States</td>\n",
       "      <td>MD</td>\n",
       "      <td>Yes</td>\n",
       "      <td>Yes</td>\n",
       "      <td>No</td>\n",
       "      <td>Sometimes</td>\n",
       "      <td>1-5</td>\n",
       "      <td>...</td>\n",
       "      <td>Yes</td>\n",
       "      <td>Very easy</td>\n",
       "      <td>No</td>\n",
       "      <td>No</td>\n",
       "      <td>Yes</td>\n",
       "      <td>Yes</td>\n",
       "      <td>No</td>\n",
       "      <td>Yes</td>\n",
       "      <td>Yes</td>\n",
       "      <td>Yes</td>\n",
       "    </tr>\n",
       "    <tr>\n",
       "      <th>1</th>\n",
       "      <td>2014-08-27 11:35:08</td>\n",
       "      <td>36</td>\n",
       "      <td>Male</td>\n",
       "      <td>France</td>\n",
       "      <td>NaN</td>\n",
       "      <td>Yes</td>\n",
       "      <td>Yes</td>\n",
       "      <td>No</td>\n",
       "      <td>Never</td>\n",
       "      <td>6-25</td>\n",
       "      <td>...</td>\n",
       "      <td>Yes</td>\n",
       "      <td>Somewhat easy</td>\n",
       "      <td>No</td>\n",
       "      <td>No</td>\n",
       "      <td>Some of them</td>\n",
       "      <td>Some of them</td>\n",
       "      <td>Maybe</td>\n",
       "      <td>Maybe</td>\n",
       "      <td>Don't know</td>\n",
       "      <td>No</td>\n",
       "    </tr>\n",
       "    <tr>\n",
       "      <th>2</th>\n",
       "      <td>2014-08-27 11:35:12</td>\n",
       "      <td>29</td>\n",
       "      <td>Male</td>\n",
       "      <td>United States</td>\n",
       "      <td>NY</td>\n",
       "      <td>No</td>\n",
       "      <td>Yes</td>\n",
       "      <td>Yes</td>\n",
       "      <td>Sometimes</td>\n",
       "      <td>100-500</td>\n",
       "      <td>...</td>\n",
       "      <td>No</td>\n",
       "      <td>Somewhat difficult</td>\n",
       "      <td>Maybe</td>\n",
       "      <td>No</td>\n",
       "      <td>Some of them</td>\n",
       "      <td>Some of them</td>\n",
       "      <td>No</td>\n",
       "      <td>No</td>\n",
       "      <td>No</td>\n",
       "      <td>No</td>\n",
       "    </tr>\n",
       "    <tr>\n",
       "      <th>3</th>\n",
       "      <td>2014-08-27 11:35:24</td>\n",
       "      <td>31</td>\n",
       "      <td>Male</td>\n",
       "      <td>United States</td>\n",
       "      <td>NC</td>\n",
       "      <td>Yes</td>\n",
       "      <td>No</td>\n",
       "      <td>No</td>\n",
       "      <td>Never</td>\n",
       "      <td>1-5</td>\n",
       "      <td>...</td>\n",
       "      <td>Yes</td>\n",
       "      <td>Somewhat difficult</td>\n",
       "      <td>No</td>\n",
       "      <td>No</td>\n",
       "      <td>Some of them</td>\n",
       "      <td>Some of them</td>\n",
       "      <td>No</td>\n",
       "      <td>Maybe</td>\n",
       "      <td>Yes</td>\n",
       "      <td>No</td>\n",
       "    </tr>\n",
       "    <tr>\n",
       "      <th>4</th>\n",
       "      <td>2014-08-27 11:35:48</td>\n",
       "      <td>46</td>\n",
       "      <td>Male</td>\n",
       "      <td>United States</td>\n",
       "      <td>MA</td>\n",
       "      <td>No</td>\n",
       "      <td>No</td>\n",
       "      <td>Yes</td>\n",
       "      <td>Often</td>\n",
       "      <td>26-100</td>\n",
       "      <td>...</td>\n",
       "      <td>Don't know</td>\n",
       "      <td>Don't know</td>\n",
       "      <td>Maybe</td>\n",
       "      <td>No</td>\n",
       "      <td>Some of them</td>\n",
       "      <td>Yes</td>\n",
       "      <td>No</td>\n",
       "      <td>Maybe</td>\n",
       "      <td>No</td>\n",
       "      <td>No</td>\n",
       "    </tr>\n",
       "  </tbody>\n",
       "</table>\n",
       "<p>5 rows × 26 columns</p>\n",
       "</div>"
      ],
      "text/plain": [
       "             Timestamp  Age Gender        Country state self_employed  \\\n",
       "0  2014-08-27 11:34:53   46   Male  United States    MD           Yes   \n",
       "1  2014-08-27 11:35:08   36   Male         France   NaN           Yes   \n",
       "2  2014-08-27 11:35:12   29   Male  United States    NY            No   \n",
       "3  2014-08-27 11:35:24   31   Male  United States    NC           Yes   \n",
       "4  2014-08-27 11:35:48   46   Male  United States    MA            No   \n",
       "\n",
       "  family_history treatment work_interfere no_employees  ...   anonymity  \\\n",
       "0            Yes        No      Sometimes          1-5  ...         Yes   \n",
       "1            Yes        No          Never         6-25  ...         Yes   \n",
       "2            Yes       Yes      Sometimes      100-500  ...          No   \n",
       "3             No        No          Never          1-5  ...         Yes   \n",
       "4             No       Yes          Often       26-100  ...  Don't know   \n",
       "\n",
       "                leave mental_health_consequence phys_health_consequence  \\\n",
       "0           Very easy                        No                      No   \n",
       "1       Somewhat easy                        No                      No   \n",
       "2  Somewhat difficult                     Maybe                      No   \n",
       "3  Somewhat difficult                        No                      No   \n",
       "4          Don't know                     Maybe                      No   \n",
       "\n",
       "      coworkers    supervisor mental_health_interview phys_health_interview  \\\n",
       "0           Yes           Yes                      No                   Yes   \n",
       "1  Some of them  Some of them                   Maybe                 Maybe   \n",
       "2  Some of them  Some of them                      No                    No   \n",
       "3  Some of them  Some of them                      No                 Maybe   \n",
       "4  Some of them           Yes                      No                 Maybe   \n",
       "\n",
       "  mental_vs_physical obs_consequence  \n",
       "0                Yes             Yes  \n",
       "1         Don't know              No  \n",
       "2                 No              No  \n",
       "3                Yes              No  \n",
       "4                 No              No  \n",
       "\n",
       "[5 rows x 26 columns]"
      ]
     },
     "execution_count": 12,
     "metadata": {},
     "output_type": "execute_result"
    }
   ],
   "source": [
    "filename = \"main_survey.csv\"\n",
    "main_df = pd.read_csv(filename)\n",
    "main_df.head()\n"
   ]
  },
  {
   "cell_type": "code",
   "execution_count": 13,
   "id": "7786eeaa-14f7-479a-aed0-dd05aab590a9",
   "metadata": {},
   "outputs": [
    {
     "data": {
      "text/plain": [
       "state                        496\n",
       "Timestamp                      0\n",
       "wellness_program               0\n",
       "mental_vs_physical             0\n",
       "phys_health_interview          0\n",
       "mental_health_interview        0\n",
       "supervisor                     0\n",
       "coworkers                      0\n",
       "phys_health_consequence        0\n",
       "mental_health_consequence      0\n",
       "leave                          0\n",
       "anonymity                      0\n",
       "seek_help                      0\n",
       "care_options                   0\n",
       "Age                            0\n",
       "benefits                       0\n",
       "tech_company                   0\n",
       "remote_work                    0\n",
       "no_employees                   0\n",
       "work_interfere                 0\n",
       "treatment                      0\n",
       "family_history                 0\n",
       "self_employed                  0\n",
       "Country                        0\n",
       "Gender                         0\n",
       "obs_consequence                0\n",
       "dtype: int64"
      ]
     },
     "execution_count": 13,
     "metadata": {},
     "output_type": "execute_result"
    }
   ],
   "source": [
    "main_df.isnull().sum().sort_values(ascending=False)"
   ]
  },
  {
   "cell_type": "markdown",
   "id": "507fd43d-dcca-45a6-8622-ee7b1226032d",
   "metadata": {},
   "source": [
    "### More clean-up for the dataset"
   ]
  },
  {
   "cell_type": "code",
   "execution_count": 14,
   "id": "3f9568a5-21f1-4138-8255-bc9ab00eabad",
   "metadata": {},
   "outputs": [],
   "source": [
    "main_df.drop('state',axis=1,inplace=True)\n",
    "main_df.drop('Timestamp',axis=1,inplace=True)"
   ]
  },
  {
   "cell_type": "code",
   "execution_count": 15,
   "id": "190f7f6f-0292-438e-b027-6b478d84cdce",
   "metadata": {},
   "outputs": [
    {
     "data": {
      "text/html": [
       "<div>\n",
       "<style scoped>\n",
       "    .dataframe tbody tr th:only-of-type {\n",
       "        vertical-align: middle;\n",
       "    }\n",
       "\n",
       "    .dataframe tbody tr th {\n",
       "        vertical-align: top;\n",
       "    }\n",
       "\n",
       "    .dataframe thead th {\n",
       "        text-align: right;\n",
       "    }\n",
       "</style>\n",
       "<table border=\"1\" class=\"dataframe\">\n",
       "  <thead>\n",
       "    <tr style=\"text-align: right;\">\n",
       "      <th></th>\n",
       "      <th>Age</th>\n",
       "      <th>Gender</th>\n",
       "      <th>Country</th>\n",
       "      <th>self_employed</th>\n",
       "      <th>family_history</th>\n",
       "      <th>treatment</th>\n",
       "      <th>work_interfere</th>\n",
       "      <th>no_employees</th>\n",
       "      <th>remote_work</th>\n",
       "      <th>tech_company</th>\n",
       "      <th>...</th>\n",
       "      <th>anonymity</th>\n",
       "      <th>leave</th>\n",
       "      <th>mental_health_consequence</th>\n",
       "      <th>phys_health_consequence</th>\n",
       "      <th>coworkers</th>\n",
       "      <th>supervisor</th>\n",
       "      <th>mental_health_interview</th>\n",
       "      <th>phys_health_interview</th>\n",
       "      <th>mental_vs_physical</th>\n",
       "      <th>obs_consequence</th>\n",
       "    </tr>\n",
       "  </thead>\n",
       "  <tbody>\n",
       "    <tr>\n",
       "      <th>0</th>\n",
       "      <td>46</td>\n",
       "      <td>Male</td>\n",
       "      <td>United States</td>\n",
       "      <td>Yes</td>\n",
       "      <td>Yes</td>\n",
       "      <td>No</td>\n",
       "      <td>Sometimes</td>\n",
       "      <td>1-5</td>\n",
       "      <td>Yes</td>\n",
       "      <td>Yes</td>\n",
       "      <td>...</td>\n",
       "      <td>Yes</td>\n",
       "      <td>Very easy</td>\n",
       "      <td>No</td>\n",
       "      <td>No</td>\n",
       "      <td>Yes</td>\n",
       "      <td>Yes</td>\n",
       "      <td>No</td>\n",
       "      <td>Yes</td>\n",
       "      <td>Yes</td>\n",
       "      <td>Yes</td>\n",
       "    </tr>\n",
       "    <tr>\n",
       "      <th>1</th>\n",
       "      <td>36</td>\n",
       "      <td>Male</td>\n",
       "      <td>France</td>\n",
       "      <td>Yes</td>\n",
       "      <td>Yes</td>\n",
       "      <td>No</td>\n",
       "      <td>Never</td>\n",
       "      <td>6-25</td>\n",
       "      <td>Yes</td>\n",
       "      <td>Yes</td>\n",
       "      <td>...</td>\n",
       "      <td>Yes</td>\n",
       "      <td>Somewhat easy</td>\n",
       "      <td>No</td>\n",
       "      <td>No</td>\n",
       "      <td>Some of them</td>\n",
       "      <td>Some of them</td>\n",
       "      <td>Maybe</td>\n",
       "      <td>Maybe</td>\n",
       "      <td>Don't know</td>\n",
       "      <td>No</td>\n",
       "    </tr>\n",
       "    <tr>\n",
       "      <th>2</th>\n",
       "      <td>29</td>\n",
       "      <td>Male</td>\n",
       "      <td>United States</td>\n",
       "      <td>No</td>\n",
       "      <td>Yes</td>\n",
       "      <td>Yes</td>\n",
       "      <td>Sometimes</td>\n",
       "      <td>100-500</td>\n",
       "      <td>No</td>\n",
       "      <td>Yes</td>\n",
       "      <td>...</td>\n",
       "      <td>No</td>\n",
       "      <td>Somewhat difficult</td>\n",
       "      <td>Maybe</td>\n",
       "      <td>No</td>\n",
       "      <td>Some of them</td>\n",
       "      <td>Some of them</td>\n",
       "      <td>No</td>\n",
       "      <td>No</td>\n",
       "      <td>No</td>\n",
       "      <td>No</td>\n",
       "    </tr>\n",
       "    <tr>\n",
       "      <th>3</th>\n",
       "      <td>31</td>\n",
       "      <td>Male</td>\n",
       "      <td>United States</td>\n",
       "      <td>Yes</td>\n",
       "      <td>No</td>\n",
       "      <td>No</td>\n",
       "      <td>Never</td>\n",
       "      <td>1-5</td>\n",
       "      <td>Yes</td>\n",
       "      <td>Yes</td>\n",
       "      <td>...</td>\n",
       "      <td>Yes</td>\n",
       "      <td>Somewhat difficult</td>\n",
       "      <td>No</td>\n",
       "      <td>No</td>\n",
       "      <td>Some of them</td>\n",
       "      <td>Some of them</td>\n",
       "      <td>No</td>\n",
       "      <td>Maybe</td>\n",
       "      <td>Yes</td>\n",
       "      <td>No</td>\n",
       "    </tr>\n",
       "    <tr>\n",
       "      <th>4</th>\n",
       "      <td>46</td>\n",
       "      <td>Male</td>\n",
       "      <td>United States</td>\n",
       "      <td>No</td>\n",
       "      <td>No</td>\n",
       "      <td>Yes</td>\n",
       "      <td>Often</td>\n",
       "      <td>26-100</td>\n",
       "      <td>Yes</td>\n",
       "      <td>Yes</td>\n",
       "      <td>...</td>\n",
       "      <td>Don't know</td>\n",
       "      <td>Don't know</td>\n",
       "      <td>Maybe</td>\n",
       "      <td>No</td>\n",
       "      <td>Some of them</td>\n",
       "      <td>Yes</td>\n",
       "      <td>No</td>\n",
       "      <td>Maybe</td>\n",
       "      <td>No</td>\n",
       "      <td>No</td>\n",
       "    </tr>\n",
       "  </tbody>\n",
       "</table>\n",
       "<p>5 rows × 24 columns</p>\n",
       "</div>"
      ],
      "text/plain": [
       "   Age Gender        Country self_employed family_history treatment  \\\n",
       "0   46   Male  United States           Yes            Yes        No   \n",
       "1   36   Male         France           Yes            Yes        No   \n",
       "2   29   Male  United States            No            Yes       Yes   \n",
       "3   31   Male  United States           Yes             No        No   \n",
       "4   46   Male  United States            No             No       Yes   \n",
       "\n",
       "  work_interfere no_employees remote_work tech_company  ...   anonymity  \\\n",
       "0      Sometimes          1-5         Yes          Yes  ...         Yes   \n",
       "1          Never         6-25         Yes          Yes  ...         Yes   \n",
       "2      Sometimes      100-500          No          Yes  ...          No   \n",
       "3          Never          1-5         Yes          Yes  ...         Yes   \n",
       "4          Often       26-100         Yes          Yes  ...  Don't know   \n",
       "\n",
       "                leave mental_health_consequence phys_health_consequence  \\\n",
       "0           Very easy                        No                      No   \n",
       "1       Somewhat easy                        No                      No   \n",
       "2  Somewhat difficult                     Maybe                      No   \n",
       "3  Somewhat difficult                        No                      No   \n",
       "4          Don't know                     Maybe                      No   \n",
       "\n",
       "      coworkers    supervisor mental_health_interview phys_health_interview  \\\n",
       "0           Yes           Yes                      No                   Yes   \n",
       "1  Some of them  Some of them                   Maybe                 Maybe   \n",
       "2  Some of them  Some of them                      No                    No   \n",
       "3  Some of them  Some of them                      No                 Maybe   \n",
       "4  Some of them           Yes                      No                 Maybe   \n",
       "\n",
       "  mental_vs_physical obs_consequence  \n",
       "0                Yes             Yes  \n",
       "1         Don't know              No  \n",
       "2                 No              No  \n",
       "3                Yes              No  \n",
       "4                 No              No  \n",
       "\n",
       "[5 rows x 24 columns]"
      ]
     },
     "execution_count": 15,
     "metadata": {},
     "output_type": "execute_result"
    }
   ],
   "source": [
    "main_df.head()"
   ]
  },
  {
   "cell_type": "markdown",
   "id": "a63bfe6d-e4b7-4626-be19-91f9a36846fb",
   "metadata": {},
   "source": [
    "### For the reader to understand the chart, here is what each column actually means...\n",
    "\n",
    "1. **Age**\n",
    "\n",
    "2. **Gender**\n",
    "\n",
    "3. **Country**\n",
    "\n",
    "4. **self_employed** Are you self-employed?\n",
    "\n",
    "5. **family_history** Do you have a family history of mental illness?\n",
    "\n",
    "6. **treatment** Have you sought treatment for a mental health condition?\n",
    "\n",
    "7. **work_interfere** If you have a mental health condition, do you feel that it interferes with your work?\n",
    "\n",
    "8. **no_employees** How many employees does your company or organization have?\n",
    "\n",
    "9. **remote_work:** Do you work remotely (outside of an office) at least 50% of the time?\n",
    "\n",
    "10. **tech_company** Is your employer primarily a tech company/organization?\n",
    "\n",
    "11. **benefits** Does your employer provide mental health benefits?\n",
    "\n",
    "12. **care_options** Do you know the options for mental health care your employer provides?\n",
    "\n",
    "13. **wellness_program** Has your employer ever discussed mental health as part of an employee wellness program?\n",
    "\n",
    "14. **seek_help** Does your employer provide resources to learn more about mental health issues and how to seek help?\n",
    "\n",
    "15. **anonymity** Is your anonymity protected if you choose to take advantage of mental health or substance abuse treatment resources?\n",
    "\n",
    "16. **leave** How easy is it for you to take medical leave for a mental health condition?\n",
    "\n",
    "17. **mentalhealthconsequence** Do you think that discussing a mental health issue with your employer would have negative consequences?\n",
    "\n",
    "18. **physhealthconsequence** Do you think that discussing a physical health issue with your employer would have negative consequences?\n",
    "\n",
    "19. **coworkers** Would you be willing to discuss a mental health issue with your coworkers?\n",
    "\n",
    "20. **supervisor** Would you be willing to discuss a mental health issue with your direct supervisor(s)?\n",
    "\n",
    "21. **mentalhealthinterview** Would you bring up a mental health issue with a potential employer in an interview?\n",
    "\n",
    "22. **physhealthinterview** Would you bring up a physical health issue with a potential employer in an interview?\n",
    "\n",
    "23. **mentalvsphysical** Do you feel that your employer takes mental health as seriously as physical health?\n",
    "\n",
    "24. **obs_consequence** Have you heard of or observed negative consequences for coworkers with mental health conditions in your workplace?"
   ]
  },
  {
   "cell_type": "code",
   "execution_count": 16,
   "id": "4a0589a2-18ba-4e0a-9fe4-964cb047cc40",
   "metadata": {},
   "outputs": [
    {
     "data": {
      "text/plain": [
       "Age                          0\n",
       "Gender                       0\n",
       "mental_vs_physical           0\n",
       "phys_health_interview        0\n",
       "mental_health_interview      0\n",
       "supervisor                   0\n",
       "coworkers                    0\n",
       "phys_health_consequence      0\n",
       "mental_health_consequence    0\n",
       "leave                        0\n",
       "anonymity                    0\n",
       "seek_help                    0\n",
       "wellness_program             0\n",
       "care_options                 0\n",
       "benefits                     0\n",
       "tech_company                 0\n",
       "remote_work                  0\n",
       "no_employees                 0\n",
       "work_interfere               0\n",
       "treatment                    0\n",
       "family_history               0\n",
       "self_employed                0\n",
       "Country                      0\n",
       "obs_consequence              0\n",
       "dtype: int64"
      ]
     },
     "execution_count": 16,
     "metadata": {},
     "output_type": "execute_result"
    }
   ],
   "source": [
    "main_df.isnull().sum().sort_values(ascending=False)"
   ]
  },
  {
   "cell_type": "code",
   "execution_count": 17,
   "id": "2ac635cc-9664-43de-86ec-f02c6a97e214",
   "metadata": {},
   "outputs": [],
   "source": [
    "unique_values_per_column = {}\n",
    "for column in main_df.columns:\n",
    "    unique_values_per_column[column] = main_df[column].unique()"
   ]
  },
  {
   "cell_type": "code",
   "execution_count": 18,
   "id": "40005f46-4609-4fb3-956c-833ac7be3dd7",
   "metadata": {},
   "outputs": [
    {
     "name": "stdout",
     "output_type": "stream",
     "text": [
      "<class 'pandas.core.frame.DataFrame'>\n",
      "RangeIndex: 1213 entries, 0 to 1212\n",
      "Data columns (total 24 columns):\n",
      " #   Column                     Non-Null Count  Dtype \n",
      "---  ------                     --------------  ----- \n",
      " 0   Age                        1213 non-null   int64 \n",
      " 1   Gender                     1213 non-null   object\n",
      " 2   Country                    1213 non-null   object\n",
      " 3   self_employed              1213 non-null   object\n",
      " 4   family_history             1213 non-null   object\n",
      " 5   treatment                  1213 non-null   object\n",
      " 6   work_interfere             1213 non-null   object\n",
      " 7   no_employees               1213 non-null   object\n",
      " 8   remote_work                1213 non-null   object\n",
      " 9   tech_company               1213 non-null   object\n",
      " 10  benefits                   1213 non-null   object\n",
      " 11  care_options               1213 non-null   object\n",
      " 12  wellness_program           1213 non-null   object\n",
      " 13  seek_help                  1213 non-null   object\n",
      " 14  anonymity                  1213 non-null   object\n",
      " 15  leave                      1213 non-null   object\n",
      " 16  mental_health_consequence  1213 non-null   object\n",
      " 17  phys_health_consequence    1213 non-null   object\n",
      " 18  coworkers                  1213 non-null   object\n",
      " 19  supervisor                 1213 non-null   object\n",
      " 20  mental_health_interview    1213 non-null   object\n",
      " 21  phys_health_interview      1213 non-null   object\n",
      " 22  mental_vs_physical         1213 non-null   object\n",
      " 23  obs_consequence            1213 non-null   object\n",
      "dtypes: int64(1), object(23)\n",
      "memory usage: 227.6+ KB\n"
     ]
    }
   ],
   "source": [
    "main_df.info()"
   ]
  },
  {
   "cell_type": "markdown",
   "id": "b1da0a29-0b3e-4084-a0d3-11a65c69876a",
   "metadata": {},
   "source": [
    "### What each of the columns' answers are... "
   ]
  },
  {
   "cell_type": "code",
   "execution_count": 19,
   "id": "8f65033f-bb97-42de-83f1-9d301ffd47b4",
   "metadata": {},
   "outputs": [
    {
     "name": "stdout",
     "output_type": "stream",
     "text": [
      "['No' 'Yes']\n",
      "['Sometimes' 'Never' 'Often' 'Rarely']\n",
      "['Yes' 'No']\n",
      "['Male' 'Female']\n",
      "['Very easy' 'Somewhat easy' 'Somewhat difficult' \"Don't know\"\n",
      " 'Very difficult']\n"
     ]
    }
   ],
   "source": [
    "print(main_df['treatment'].unique())\n",
    "print(main_df['work_interfere'].unique())\n",
    "print(main_df['remote_work'].unique())\n",
    "print(main_df['Gender'].unique())\n",
    "print(main_df['leave'].unique())"
   ]
  },
  {
   "cell_type": "markdown",
   "id": "7470e9c7-6ecd-49a8-8da0-a3a607bd964b",
   "metadata": {},
   "source": [
    "## First, I will explore the answers from the question: Have you sought treatment for a mental health condition?"
   ]
  },
  {
   "cell_type": "code",
   "execution_count": 31,
   "id": "a77d2018-10ec-4ef4-bab9-ae2b0f6e60d0",
   "metadata": {},
   "outputs": [
    {
     "data": {
      "text/plain": [
       "treatment\n",
       "No     606\n",
       "Yes    607\n",
       "Name: Gender, dtype: int64"
      ]
     },
     "execution_count": 31,
     "metadata": {},
     "output_type": "execute_result"
    }
   ],
   "source": [
    "main_df.groupby(\"treatment\")[list(main_df.columns[:])[1]].count()"
   ]
  },
  {
   "cell_type": "code",
   "execution_count": 21,
   "id": "4c3f576f-f2df-4a7f-9405-7e69e4f84b0a",
   "metadata": {},
   "outputs": [
    {
     "name": "stdout",
     "output_type": "stream",
     "text": [
      "Comparison of the answers for Treatment\n"
     ]
    },
    {
     "data": {
      "image/png": "[encoded data removed]",
      "text/plain": [
       "<Figure size 432x288 with 1 Axes>"
      ]
     },
     "metadata": {
      "needs_background": "light"
     },
     "output_type": "display_data"
    }
   ],
   "source": [
    "import matplotlib.pyplot as plt\n",
    "import seaborn as sns\n",
    "import pandas as pd\n",
    "dataframe = pd.read_csv(\"main_survey.csv\")\n",
    "\n",
    "print(\"Comparison of the answers for Treatment\")\n",
    "ax = sns.set_palette(\"bright\")\n",
    "ax = sns.countplot(x=\"treatment\",data=dataframe)\n"
   ]
  },
  {
   "cell_type": "markdown",
   "id": "450b5521-1b62-418b-8d98-1a26a9f27a8f",
   "metadata": {},
   "source": [
    "## Secondly, I will explore the answers from the question: If you have a mental health condition, do you feel that it interferes with your work?"
   ]
  },
  {
   "cell_type": "code",
   "execution_count": 32,
   "id": "371a778d-f541-4061-a717-ae22d5936bd4",
   "metadata": {},
   "outputs": [
    {
     "data": {
      "text/plain": [
       "work_interfere\n",
       "Never        449\n",
       "Often        152\n",
       "Rarely       166\n",
       "Sometimes    446\n",
       "Name: Gender, dtype: int64"
      ]
     },
     "execution_count": 32,
     "metadata": {},
     "output_type": "execute_result"
    }
   ],
   "source": [
    "main_df.groupby(\"work_interfere\")[list(main_df.columns[:])[1]].count()"
   ]
  },
  {
   "cell_type": "code",
   "execution_count": 23,
   "id": "76d34605-360b-4068-9547-48d50156007e",
   "metadata": {},
   "outputs": [
    {
     "name": "stdout",
     "output_type": "stream",
     "text": [
      "Comparison of the answers for Work Interference\n"
     ]
    },
    {
     "data": {
      "image/png": "[encoded data removed]",
      "text/plain": [
       "<Figure size 432x288 with 1 Axes>"
      ]
     },
     "metadata": {
      "needs_background": "light"
     },
     "output_type": "display_data"
    }
   ],
   "source": [
    "import matplotlib.pyplot as plt\n",
    "import seaborn as sns\n",
    "import pandas as pd\n",
    "dataframe = pd.read_csv(\"main_survey.csv\")\n",
    "\n",
    "print(\"Comparison of the answers for Work Interference\")\n",
    "ax = sns.set_palette(\"bright\")\n",
    "ax = sns.countplot(x='work_interfere',data=dataframe)\n"
   ]
  },
  {
   "cell_type": "markdown",
   "id": "19544a04-b1f3-4bd0-9340-d7fda167d917",
   "metadata": {},
   "source": [
    "## My reoccuring theme for this journey is the examine the treatment and how it correlates with the different questions in the survey...\n",
    "### For this graph, you will see the comparison of Treatment and Work Interference..."
   ]
  },
  {
   "cell_type": "code",
   "execution_count": 24,
   "id": "ef80ac40-3e61-4e90-9c68-6bd8b8343a26",
   "metadata": {},
   "outputs": [
    {
     "name": "stdout",
     "output_type": "stream",
     "text": [
      "Treatment vs. Work Interference\n"
     ]
    },
    {
     "data": {
      "image/png": "[encoded data removed]",
      "text/plain": [
       "<Figure size 432x288 with 1 Axes>"
      ]
     },
     "metadata": {
      "needs_background": "light"
     },
     "output_type": "display_data"
    }
   ],
   "source": [
    "print(\"Treatment vs. Work Interference\")\n",
    "ax = sns.set_palette(\"Paired\")\n",
    "ax = sns.countplot(y='treatment',hue='work_interfere',data=dataframe)\n"
   ]
  },
  {
   "cell_type": "markdown",
   "id": "0f0ca5c6-5b88-46ee-88e8-111c42b42d92",
   "metadata": {},
   "source": [
    "### For the next graph, I want to show the how working remotely can hinder your mental health..."
   ]
  },
  {
   "cell_type": "code",
   "execution_count": 33,
   "id": "cd714ba6-2f51-4f96-ac91-8f0069faeb3e",
   "metadata": {},
   "outputs": [
    {
     "data": {
      "text/plain": [
       "remote_work\n",
       "No     853\n",
       "Yes    360\n",
       "Name: Gender, dtype: int64"
      ]
     },
     "execution_count": 33,
     "metadata": {},
     "output_type": "execute_result"
    }
   ],
   "source": [
    "main_df.groupby(\"remote_work\")[list(main_df.columns[:])[1]].count()"
   ]
  },
  {
   "cell_type": "code",
   "execution_count": 26,
   "id": "39437be1-b1b0-4d41-8f3f-2f19167264c7",
   "metadata": {},
   "outputs": [
    {
     "name": "stdout",
     "output_type": "stream",
     "text": [
      "Remote Work vs. Work Interference\n"
     ]
    },
    {
     "data": {
      "image/png": "[encoded data removed]",
      "text/plain": [
       "<Figure size 432x288 with 1 Axes>"
      ]
     },
     "metadata": {
      "needs_background": "light"
     },
     "output_type": "display_data"
    }
   ],
   "source": [
    "print('Remote Work vs. Work Interference')\n",
    "ax = sns.set_palette(\"colorblind\")\n",
    "ax = sns.countplot(y='remote_work', hue = \"work_interfere\", data=dataframe)\n"
   ]
  },
  {
   "cell_type": "markdown",
   "id": "a3aecdcf-c8d8-4519-9cb2-440915308d0c",
   "metadata": {},
   "source": [
    "### This graph shows the correlation between gender and treatment. As you observe, I want you to see that more females are open to treatment when asked and with males, more of them say no..."
   ]
  },
  {
   "cell_type": "code",
   "execution_count": 34,
   "id": "be34b5a4-21c7-450b-bc56-e2fb05cc577e",
   "metadata": {},
   "outputs": [
    {
     "data": {
      "text/plain": [
       "Gender\n",
       "Female    241\n",
       "Male      972\n",
       "Name: Gender, dtype: int64"
      ]
     },
     "execution_count": 34,
     "metadata": {},
     "output_type": "execute_result"
    }
   ],
   "source": [
    "main_df.groupby(\"Gender\")[list(main_df.columns[:])[1]].count()"
   ]
  },
  {
   "cell_type": "code",
   "execution_count": 28,
   "id": "e0513dc6-103a-4598-b0bf-596fb4b87e4a",
   "metadata": {},
   "outputs": [
    {
     "name": "stdout",
     "output_type": "stream",
     "text": [
      "Treatment vs. Gender\n"
     ]
    },
    {
     "data": {
      "image/png": "[encoded data removed]",
      "text/plain": [
       "<Figure size 432x288 with 1 Axes>"
      ]
     },
     "metadata": {
      "needs_background": "light"
     },
     "output_type": "display_data"
    }
   ],
   "source": [
    "print(\"Treatment vs. Gender\")\n",
    "ax = sns.set_palette(\"Paired\")\n",
    "ax = sns.countplot(y='treatment', hue = \"Gender\", data=dataframe)\n"
   ]
  },
  {
   "cell_type": "markdown",
   "id": "f6522438-b5f0-4f66-be96-a5ec9cf63723",
   "metadata": {},
   "source": [
    "### For my last graph, I want to show the importance of knowing that it's okay to go on leave for any mental health condition. Most people don't know if they are allowed and the employers should make it known... "
   ]
  },
  {
   "cell_type": "code",
   "execution_count": 35,
   "id": "3808b613-e287-487f-8891-3a3d2407dc2f",
   "metadata": {},
   "outputs": [
    {
     "data": {
      "text/plain": [
       "leave\n",
       "Don't know            545\n",
       "Somewhat difficult    114\n",
       "Somewhat easy         259\n",
       "Very difficult         94\n",
       "Very easy             201\n",
       "Name: Gender, dtype: int64"
      ]
     },
     "execution_count": 35,
     "metadata": {},
     "output_type": "execute_result"
    }
   ],
   "source": [
    "main_df.groupby(\"leave\")[list(main_df.columns[:])[1]].count()"
   ]
  },
  {
   "cell_type": "code",
   "execution_count": 30,
   "id": "0abb29ce-b1b4-4736-b457-0b7af9e3b515",
   "metadata": {},
   "outputs": [
    {
     "name": "stdout",
     "output_type": "stream",
     "text": [
      "Treatment vs. Leave\n"
     ]
    },
    {
     "data": {
      "image/png": "[encoded data removed]",
      "text/plain": [
       "<Figure size 432x288 with 1 Axes>"
      ]
     },
     "metadata": {
      "needs_background": "light"
     },
     "output_type": "display_data"
    }
   ],
   "source": [
    "print(\"Treatment vs. Leave\")\n",
    "ax = sns.set_palette(\"Paired\")\n",
    "ax = sns.countplot(y='treatment', hue = \"leave\", data=dataframe)\n"
   ]
  },
  {
   "cell_type": "markdown",
   "id": "77800d88-01a7-4d70-aac6-5d262d1841a7",
   "metadata": {},
   "source": [
    "### This project is exploratory and I want the reader to see for themselves the data given "
   ]
  }
 ],
 "metadata": {
  "kernelspec": {
   "display_name": "Python 3",
   "language": "python",
   "name": "python3"
  },
  "language_info": {
   "codemirror_mode": {
    "name": "ipython",
    "version": 3
   },
   "file_extension": ".py",
   "mimetype": "text/x-python",
   "name": "python",
   "nbconvert_exporter": "python",
   "pygments_lexer": "ipython3",
   "version": "3.8.8"
  }
 },
 "nbformat": 4,
 "nbformat_minor": 5
}
