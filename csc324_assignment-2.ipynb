{
 "cells": [
  {
   "cell_type": "markdown",
   "id": "af0605f3-1a30-4fe8-be00-f16ba17ecd09",
   "metadata": {},
   "source": [
    "Introduction\n",
    "\n",
    "To know which factor may affect the student's performance, we classify the score inot couple of ranks, and figure out which featureaffect the score more significant. The indpendent varibles are as followed:\n",
    "\n",
    "1. Gender\n",
    "2. Race/ethnicity \n",
    "3. Parental level of education\n",
    "4. Lunch\n",
    "5. Test preparation course"
   ]
  },
  {
   "cell_type": "code",
   "execution_count": 8,
   "id": "ab8ea8c4-cfdf-4cb3-8ead-182cf9bc8028",
   "metadata": {},
   "outputs": [],
   "source": [
    "import seaborn as sns\n",
    "import matplotlib.pyplot as plt\n",
    "import os\n",
    "import pandas as pd\n",
    "import numpy as np\n",
    "from sklearn.preprocessing import LabelEncoder \n",
    "from sklearn.cluster import KMeans"
   ]
  },
  {
   "cell_type": "markdown",
   "id": "62bdd14a-bb96-49c2-9ce1-fe40f0bcb3cf",
   "metadata": {},
   "source": [
    "Let's see how many datasets in this topic"
   ]
  },
  {
   "cell_type": "code",
   "execution_count": 9,
   "id": "1a838af6-416d-40ab-b2a0-f75b4ba0b994",
   "metadata": {},
   "outputs": [
    {
     "data": {
      "text/plain": [
       "['exam.csv',\n",
       " '03_numpy.ipynb',\n",
       " '01_notebook.ipynb',\n",
       " '06_kernel.ipynb',\n",
       " 'Untitled.ipynb',\n",
       " '04_magic.ipynb',\n",
       " '05_config.ipynb',\n",
       " 'exam_results.csv',\n",
       " '.ipynb_checkpoints',\n",
       " '02_pandas.ipynb']"
      ]
     },
     "execution_count": 9,
     "metadata": {},
     "output_type": "execute_result"
    }
   ],
   "source": [
    "os.listdir(\".\")"
   ]
  },
  {
   "cell_type": "markdown",
   "id": "00f2069e-a5b2-40e5-890d-611d91e853c9",
   "metadata": {},
   "source": [
    "Only one! Take a look at the dataset"
   ]
  },
  {
   "cell_type": "code",
   "execution_count": 10,
   "id": "1d2a8cbf-c73e-49b2-9664-5505d6e536b2",
   "metadata": {},
   "outputs": [
    {
     "data": {
      "text/html": [
       "<div>\n",
       "<style scoped>\n",
       "    .dataframe tbody tr th:only-of-type {\n",
       "        vertical-align: middle;\n",
       "    }\n",
       "\n",
       "    .dataframe tbody tr th {\n",
       "        vertical-align: top;\n",
       "    }\n",
       "\n",
       "    .dataframe thead th {\n",
       "        text-align: right;\n",
       "    }\n",
       "</style>\n",
       "<table border=\"1\" class=\"dataframe\">\n",
       "  <thead>\n",
       "    <tr style=\"text-align: right;\">\n",
       "      <th></th>\n",
       "      <th>gender</th>\n",
       "      <th>race/ethnicity</th>\n",
       "      <th>parental level of education</th>\n",
       "      <th>lunch</th>\n",
       "      <th>test preparation course</th>\n",
       "      <th>math score</th>\n",
       "      <th>reading score</th>\n",
       "      <th>writing score</th>\n",
       "    </tr>\n",
       "  </thead>\n",
       "  <tbody>\n",
       "    <tr>\n",
       "      <th>0</th>\n",
       "      <td>female</td>\n",
       "      <td>group B</td>\n",
       "      <td>bachelor's degree</td>\n",
       "      <td>standard</td>\n",
       "      <td>none</td>\n",
       "      <td>72</td>\n",
       "      <td>72</td>\n",
       "      <td>74</td>\n",
       "    </tr>\n",
       "    <tr>\n",
       "      <th>1</th>\n",
       "      <td>female</td>\n",
       "      <td>group C</td>\n",
       "      <td>some college</td>\n",
       "      <td>standard</td>\n",
       "      <td>completed</td>\n",
       "      <td>69</td>\n",
       "      <td>90</td>\n",
       "      <td>88</td>\n",
       "    </tr>\n",
       "    <tr>\n",
       "      <th>2</th>\n",
       "      <td>female</td>\n",
       "      <td>group B</td>\n",
       "      <td>master's degree</td>\n",
       "      <td>standard</td>\n",
       "      <td>none</td>\n",
       "      <td>90</td>\n",
       "      <td>95</td>\n",
       "      <td>93</td>\n",
       "    </tr>\n",
       "    <tr>\n",
       "      <th>3</th>\n",
       "      <td>male</td>\n",
       "      <td>group A</td>\n",
       "      <td>associate's degree</td>\n",
       "      <td>free/reduced</td>\n",
       "      <td>none</td>\n",
       "      <td>47</td>\n",
       "      <td>57</td>\n",
       "      <td>44</td>\n",
       "    </tr>\n",
       "    <tr>\n",
       "      <th>4</th>\n",
       "      <td>male</td>\n",
       "      <td>group C</td>\n",
       "      <td>some college</td>\n",
       "      <td>standard</td>\n",
       "      <td>none</td>\n",
       "      <td>76</td>\n",
       "      <td>78</td>\n",
       "      <td>75</td>\n",
       "    </tr>\n",
       "  </tbody>\n",
       "</table>\n",
       "</div>"
      ],
      "text/plain": [
       "   gender race/ethnicity parental level of education         lunch  \\\n",
       "0  female        group B           bachelor's degree      standard   \n",
       "1  female        group C                some college      standard   \n",
       "2  female        group B             master's degree      standard   \n",
       "3    male        group A          associate's degree  free/reduced   \n",
       "4    male        group C                some college      standard   \n",
       "\n",
       "  test preparation course  math score  reading score  writing score  \n",
       "0                    none          72             72             74  \n",
       "1               completed          69             90             88  \n",
       "2                    none          90             95             93  \n",
       "3                    none          47             57             44  \n",
       "4                    none          76             78             75  "
      ]
     },
     "execution_count": 10,
     "metadata": {},
     "output_type": "execute_result"
    }
   ],
   "source": [
    "filename = \"exam_results.csv\"\n",
    "score_df = pd.read_csv(filename)\n",
    "score_df.head()"
   ]
  },
  {
   "cell_type": "markdown",
   "id": "0ffbdfbe-ac4e-487d-a6bf-ddbc6b44bab5",
   "metadata": {},
   "source": [
    "Some column names are too long, rename the column names to be simplier"
   ]
  },
  {
   "cell_type": "code",
   "execution_count": 12,
   "id": "eb6c49d0-97b4-41ea-a64c-9428a56648bc",
   "metadata": {},
   "outputs": [
    {
     "data": {
      "text/html": [
       "<div>\n",
       "<style scoped>\n",
       "    .dataframe tbody tr th:only-of-type {\n",
       "        vertical-align: middle;\n",
       "    }\n",
       "\n",
       "    .dataframe tbody tr th {\n",
       "        vertical-align: top;\n",
       "    }\n",
       "\n",
       "    .dataframe thead th {\n",
       "        text-align: right;\n",
       "    }\n",
       "</style>\n",
       "<table border=\"1\" class=\"dataframe\">\n",
       "  <thead>\n",
       "    <tr style=\"text-align: right;\">\n",
       "      <th></th>\n",
       "      <th>gender</th>\n",
       "      <th>ethnicity</th>\n",
       "      <th>parent_education</th>\n",
       "      <th>lunch</th>\n",
       "      <th>pre</th>\n",
       "      <th>math</th>\n",
       "      <th>reading</th>\n",
       "      <th>writing</th>\n",
       "    </tr>\n",
       "  </thead>\n",
       "  <tbody>\n",
       "    <tr>\n",
       "      <th>0</th>\n",
       "      <td>female</td>\n",
       "      <td>group B</td>\n",
       "      <td>bachelor's degree</td>\n",
       "      <td>standard</td>\n",
       "      <td>none</td>\n",
       "      <td>72</td>\n",
       "      <td>72</td>\n",
       "      <td>74</td>\n",
       "    </tr>\n",
       "    <tr>\n",
       "      <th>1</th>\n",
       "      <td>female</td>\n",
       "      <td>group C</td>\n",
       "      <td>some college</td>\n",
       "      <td>standard</td>\n",
       "      <td>completed</td>\n",
       "      <td>69</td>\n",
       "      <td>90</td>\n",
       "      <td>88</td>\n",
       "    </tr>\n",
       "    <tr>\n",
       "      <th>2</th>\n",
       "      <td>female</td>\n",
       "      <td>group B</td>\n",
       "      <td>master's degree</td>\n",
       "      <td>standard</td>\n",
       "      <td>none</td>\n",
       "      <td>90</td>\n",
       "      <td>95</td>\n",
       "      <td>93</td>\n",
       "    </tr>\n",
       "    <tr>\n",
       "      <th>3</th>\n",
       "      <td>male</td>\n",
       "      <td>group A</td>\n",
       "      <td>associate's degree</td>\n",
       "      <td>free/reduced</td>\n",
       "      <td>none</td>\n",
       "      <td>47</td>\n",
       "      <td>57</td>\n",
       "      <td>44</td>\n",
       "    </tr>\n",
       "    <tr>\n",
       "      <th>4</th>\n",
       "      <td>male</td>\n",
       "      <td>group C</td>\n",
       "      <td>some college</td>\n",
       "      <td>standard</td>\n",
       "      <td>none</td>\n",
       "      <td>76</td>\n",
       "      <td>78</td>\n",
       "      <td>75</td>\n",
       "    </tr>\n",
       "  </tbody>\n",
       "</table>\n",
       "</div>"
      ],
      "text/plain": [
       "   gender ethnicity    parent_education         lunch        pre  math  \\\n",
       "0  female   group B   bachelor's degree      standard       none    72   \n",
       "1  female   group C        some college      standard  completed    69   \n",
       "2  female   group B     master's degree      standard       none    90   \n",
       "3    male   group A  associate's degree  free/reduced       none    47   \n",
       "4    male   group C        some college      standard       none    76   \n",
       "\n",
       "   reading  writing  \n",
       "0       72       74  \n",
       "1       90       88  \n",
       "2       95       93  \n",
       "3       57       44  \n",
       "4       78       75  "
      ]
     },
     "execution_count": 12,
     "metadata": {},
     "output_type": "execute_result"
    }
   ],
   "source": [
    "score_df.rename(columns = {\"race/ethnicity\":\"ethnicity\", \"parental level of education\": \"parent_education\", \"math score\":\"math\", \"reading score\":\"reading\",\"writing score\":\"writing\",\"test preparation course\":\"pre\"}, inplace=True)\n",
    "score_df.head()"
   ]
  },
  {
   "cell_type": "code",
   "execution_count": 16,
   "id": "43c5d68e-3a92-42ea-9280-a8a6f75d53f7",
   "metadata": {},
   "outputs": [
    {
     "data": {
      "text/plain": [
       "gender\n",
       "female    63.633205\n",
       "male      68.728216\n",
       "Name: math, dtype: float64"
      ]
     },
     "execution_count": 16,
     "metadata": {},
     "output_type": "execute_result"
    }
   ],
   "source": [
    "score_df.groupby(\"gender\")[list(score_df.columns[-3:])[0]].mean()"
   ]
  },
  {
   "cell_type": "code",
   "execution_count": 17,
   "id": "749b7035-5ab1-4c04-b01f-57cd6b58c5e1",
   "metadata": {},
   "outputs": [
    {
     "data": {
      "text/plain": [
       "gender\n",
       "female    72.608108\n",
       "male      65.473029\n",
       "Name: reading, dtype: float64"
      ]
     },
     "execution_count": 17,
     "metadata": {},
     "output_type": "execute_result"
    }
   ],
   "source": [
    "score_df.groupby(\"gender\")[list(score_df.columns[-3:])[1]].mean()"
   ]
  },
  {
   "cell_type": "code",
   "execution_count": 18,
   "id": "ad2faa71-e5c4-4e29-a1b7-c175fbead9a8",
   "metadata": {},
   "outputs": [
    {
     "data": {
      "text/plain": [
       "gender\n",
       "female    72.467181\n",
       "male      63.311203\n",
       "Name: writing, dtype: float64"
      ]
     },
     "execution_count": 18,
     "metadata": {},
     "output_type": "execute_result"
    }
   ],
   "source": [
    "score_df.groupby(\"gender\")[list(score_df.columns[-3:])[2]].mean()"
   ]
  },
  {
   "cell_type": "markdown",
   "id": "86ec0ffe-1d8e-4ee9-93bb-444fa3275712",
   "metadata": {},
   "source": [
    "Seems clearly. Check the data types"
   ]
  },
  {
   "cell_type": "code",
   "execution_count": 13,
   "id": "3f092214-3309-4f82-873a-dfdd3af1ff6f",
   "metadata": {},
   "outputs": [
    {
     "data": {
      "text/plain": [
       "gender              object\n",
       "ethnicity           object\n",
       "parent_education    object\n",
       "lunch               object\n",
       "pre                 object\n",
       "math                 int64\n",
       "reading              int64\n",
       "writing              int64\n",
       "dtype: object"
      ]
     },
     "execution_count": 13,
     "metadata": {},
     "output_type": "execute_result"
    }
   ],
   "source": [
    "score_df.dtypes"
   ]
  },
  {
   "cell_type": "markdown",
   "id": "9935a0e6-d923-41d4-b4e4-5155c2a58820",
   "metadata": {},
   "source": [
    "Plotting the average scores per gender. Use a barplot"
   ]
  },
  {
   "cell_type": "code",
   "execution_count": 41,
   "id": "293b34a8-6718-43bc-9277-1856ccb302fa",
   "metadata": {},
   "outputs": [
    {
     "data": {
      "image/png": "[encoded data removed]",
      "text/plain": [
       "<Figure size 432x288 with 1 Axes>"
      ]
     },
     "metadata": {
      "needs_background": "light"
     },
     "output_type": "display_data"
    }
   ],
   "source": [
    "import matplotlib.pyplot as plt\n",
    "import numpy as np\n",
    "\n",
    "\n",
    "labels = ['math', 'reading', 'writing']\n",
    "men_means = [68.7, 65.5, 63.3]\n",
    "women_means = [63.6, 72.6, 72.5]\n",
    "\n",
    "x = np.arange(len(labels))  # the label locations\n",
    "width = 0.35  # the width of the bars\n",
    "\n",
    "fig, ax = plt.subplots()\n",
    "rects1 = ax.bar(x - width/2, men_means, width, label='men')\n",
    "rects2 = ax.bar(x + width/2, women_means, width, label='women')\n",
    "\n",
    "# Add some text for labels, title and custom x-axis tick labels, etc.\n",
    "ax.set_ylabel('Scores')\n",
    "ax.set_title('Scores by group and gender')\n",
    "ax.set_xticks(x)\n",
    "ax.set_xticklabels(labels)\n",
    "ax.legend()\n",
    "\n",
    "fig.tight_layout()\n",
    "\n",
    "plt.show()"
   ]
  },
  {
   "cell_type": "markdown",
   "id": "ce8584a8-9e26-4f65-966c-760e444ecfad",
   "metadata": {},
   "source": [
    ".\n",
    ".\n",
    ".\n",
    "LUNCH BOXPLOT FOR EACH SCORE"
   ]
  },
  {
   "cell_type": "code",
   "execution_count": 42,
   "id": "0d7d8b61-f7ee-4258-843d-0f72024b0775",
   "metadata": {},
   "outputs": [
    {
     "data": {
      "text/plain": [
       "lunch\n",
       "free/reduced    58.921127\n",
       "standard        70.034109\n",
       "Name: math, dtype: float64"
      ]
     },
     "execution_count": 42,
     "metadata": {},
     "output_type": "execute_result"
    }
   ],
   "source": [
    "score_df.groupby(\"lunch\")[list(score_df.columns[-3:])[0]].mean()"
   ]
  },
  {
   "cell_type": "code",
   "execution_count": 34,
   "id": "b62b4ac6-d2b9-4f20-ae18-426284fc758e",
   "metadata": {},
   "outputs": [
    {
     "data": {
      "text/plain": [
       "lunch\n",
       "free/reduced    64.653521\n",
       "standard        71.654264\n",
       "Name: reading, dtype: float64"
      ]
     },
     "execution_count": 34,
     "metadata": {},
     "output_type": "execute_result"
    }
   ],
   "source": [
    "score_df.groupby(\"lunch\")[list(score_df.columns[-3:])[1]].mean()"
   ]
  },
  {
   "cell_type": "code",
   "execution_count": 35,
   "id": "de08ec48-30e3-496e-9b47-f35c1295d081",
   "metadata": {},
   "outputs": [
    {
     "data": {
      "text/plain": [
       "lunch\n",
       "free/reduced    63.022535\n",
       "standard        70.823256\n",
       "Name: writing, dtype: float64"
      ]
     },
     "execution_count": 35,
     "metadata": {},
     "output_type": "execute_result"
    }
   ],
   "source": [
    "score_df.groupby(\"lunch\")[list(score_df.columns[-3:])[2]].mean()"
   ]
  },
  {
   "cell_type": "code",
   "execution_count": 79,
   "id": "e778c928-9954-45ba-b88f-5674eabf1461",
   "metadata": {},
   "outputs": [
    {
     "data": {
      "image/png": "[encoded data removed]",
      "text/plain": [
       "<Figure size 432x288 with 1 Axes>"
      ]
     },
     "metadata": {},
     "output_type": "display_data"
    }
   ],
   "source": [
    "import matplotlib.pyplot as plt\n",
    "import seaborn as sns\n",
    "import pandas as pd\n",
    "\n",
    "dataframe = pd.read_csv(\"exam_results.csv\")\n",
    "\n",
    "\n",
    "ax = sns.boxplot(x=\"lunch\", y=\"math score\", data=dataframe)"
   ]
  },
  {
   "cell_type": "code",
   "execution_count": 69,
   "id": "2eaff6f1-d241-4fe9-b97d-c24f6653f24f",
   "metadata": {},
   "outputs": [
    {
     "data": {
      "image/png": "[encoded data removed]",
      "text/plain": [
       "<Figure size 432x288 with 1 Axes>"
      ]
     },
     "metadata": {},
     "output_type": "display_data"
    }
   ],
   "source": [
    "import matplotlib.pyplot as plt\n",
    "import seaborn as sns\n",
    "import pandas as pd\n",
    "\n",
    "dataframe = pd.read_csv(\"exam_results.csv\")\n",
    "\n",
    "\n",
    "ax = sns.boxplot(x=\"lunch\", y=\"reading score\", data=dataframe)"
   ]
  },
  {
   "cell_type": "code",
   "execution_count": 70,
   "id": "b7b8eca2-4705-4244-83da-a8745d17f337",
   "metadata": {},
   "outputs": [
    {
     "data": {
      "image/png": "[encoded data removed]",
      "text/plain": [
       "<Figure size 432x288 with 1 Axes>"
      ]
     },
     "metadata": {},
     "output_type": "display_data"
    }
   ],
   "source": [
    "import matplotlib.pyplot as plt\n",
    "import seaborn as sns\n",
    "import pandas as pd\n",
    "\n",
    "dataframe = pd.read_csv(\"exam_results.csv\")\n",
    "\n",
    "\n",
    "ax = sns.boxplot(x=\"lunch\", y=\"writing score\", data=dataframe)"
   ]
  },
  {
   "cell_type": "markdown",
   "id": "47ed95d7-22e9-4935-a59d-dcd4a4175aac",
   "metadata": {},
   "source": [
    ".\n",
    ".\n",
    ".\n",
    "TEST PREPARATION COURSE BOXPLOT FOR EACH SCORE"
   ]
  },
  {
   "cell_type": "code",
   "execution_count": 80,
   "id": "4b8e6073-9742-473c-a055-6cbdb273fe44",
   "metadata": {},
   "outputs": [
    {
     "data": {
      "text/plain": [
       "pre\n",
       "completed    69.695531\n",
       "none         64.077882\n",
       "Name: math, dtype: float64"
      ]
     },
     "execution_count": 80,
     "metadata": {},
     "output_type": "execute_result"
    }
   ],
   "source": [
    "score_df.groupby(\"pre\")[list(score_df.columns[-3:])[0]].mean()"
   ]
  },
  {
   "cell_type": "code",
   "execution_count": 81,
   "id": "0928f0c6-51f9-4b66-b282-09ef7be7eaf7",
   "metadata": {},
   "outputs": [
    {
     "data": {
      "text/plain": [
       "pre\n",
       "completed    73.893855\n",
       "none         66.534268\n",
       "Name: reading, dtype: float64"
      ]
     },
     "execution_count": 81,
     "metadata": {},
     "output_type": "execute_result"
    }
   ],
   "source": [
    "score_df.groupby(\"pre\")[list(score_df.columns[-3:])[1]].mean()"
   ]
  },
  {
   "cell_type": "code",
   "execution_count": 82,
   "id": "9ca8792e-9ec7-4738-9259-327acc8c7068",
   "metadata": {},
   "outputs": [
    {
     "data": {
      "text/plain": [
       "pre\n",
       "completed    74.418994\n",
       "none         64.504673\n",
       "Name: writing, dtype: float64"
      ]
     },
     "execution_count": 82,
     "metadata": {},
     "output_type": "execute_result"
    }
   ],
   "source": [
    "score_df.groupby(\"pre\")[list(score_df.columns[-3:])[2]].mean()"
   ]
  },
  {
   "cell_type": "code",
   "execution_count": 83,
   "id": "44ecac83-7907-428f-a360-525798042e05",
   "metadata": {},
   "outputs": [
    {
     "data": {
      "image/png": "[encoded data removed]",
      "text/plain": [
       "<Figure size 432x288 with 1 Axes>"
      ]
     },
     "metadata": {},
     "output_type": "display_data"
    }
   ],
   "source": [
    "import matplotlib.pyplot as plt\n",
    "import seaborn as sns\n",
    "import pandas as pd\n",
    "\n",
    "dataframe = pd.read_csv(\"exam_results.csv\")\n",
    "\n",
    "\n",
    "ax = sns.boxplot(x=\"test preparation course\", y=\"math score\", data=dataframe)"
   ]
  },
  {
   "cell_type": "code",
   "execution_count": null,
   "id": "02a27f13-2c64-4594-9689-cabe95fc2968",
   "metadata": {},
   "outputs": [],
   "source": [
    "import matplotlib.pyplot as plt\n",
    "import seaborn as sns\n",
    "import pandas as pd\n",
    "\n",
    "dataframe = pd.read_csv(\"exam_results.csv\")\n",
    "\n",
    "\n",
    "ax = sns.boxplot(x=\"test preparation course\", y=\"reading score\", data=dataframe)"
   ]
  },
  {
   "cell_type": "code",
   "execution_count": 78,
   "id": "deb50ba0-62b8-44b2-bd9f-4612a09985f4",
   "metadata": {},
   "outputs": [
    {
     "data": {
      "image/png": "[encoded data removed]",
      "text/plain": [
       "<Figure size 432x288 with 1 Axes>"
      ]
     },
     "metadata": {},
     "output_type": "display_data"
    }
   ],
   "source": [
    "import matplotlib.pyplot as plt\n",
    "import seaborn as sns\n",
    "import pandas as pd\n",
    "\n",
    "dataframe = pd.read_csv(\"exam_results.csv\")\n",
    "\n",
    "\n",
    "ax = sns.boxplot(x=\"test preparation course\", y=\"writing score\", data=dataframe)"
   ]
  },
  {
   "cell_type": "code",
   "execution_count": null,
   "id": "ac885110-b8c8-48a9-8b13-36d4c9cb4d89",
   "metadata": {},
   "outputs": [],
   "source": []
  }
 ],
 "metadata": {
  "kernelspec": {
   "display_name": "Python 3",
   "language": "python",
   "name": "python3"
  },
  "language_info": {
   "codemirror_mode": {
    "name": "ipython",
    "version": 3
   },
   "file_extension": ".py",
   "mimetype": "text/x-python",
   "name": "python",
   "nbconvert_exporter": "python",
   "pygments_lexer": "ipython3",
   "version": "3.8.8"
  }
 },
 "nbformat": 4,
 "nbformat_minor": 5
}
